{
  "nbformat": 4,
  "nbformat_minor": 0,
  "metadata": {
    "kernelspec": {
      "display_name": "Python 3",
      "language": "python",
      "name": "python3"
    },
    "language_info": {
      "codemirror_mode": {
        "name": "ipython",
        "version": 3
      },
      "file_extension": ".py",
      "mimetype": "text/x-python",
      "name": "python",
      "nbconvert_exporter": "python",
      "pygments_lexer": "ipython3",
      "version": "3.7.7"
    },
    "colab": {
      "provenance": []
    }
  },
  "cells": [
    {
      "cell_type": "markdown",
      "metadata": {
        "id": "a9HYUdCUsrKl"
      },
      "source": [
        "<h2>Soal 1: Comparison Operator</h2>\n",
        "\n",
        "- Berikan contoh comparison dari tipe data string\n",
        "- Berikan contoh comparison dari tipe data boolean\n",
        "- Berikan contoh comparison dari tipe data integer"
      ]
    },
    {
      "cell_type": "code",
      "metadata": {
        "id": "fUFkFOt0afUL",
        "colab": {
          "base_uri": "https://localhost:8080/"
        },
        "outputId": "6e7c89b7-220e-4bc0-f056-e372bb5ff597"
      },
      "source": [
        "#contoh untuk string\n",
        "# 'sanber' == 'saber'\n",
        "\n",
        "a = 'a'\n",
        "b = 'b'\n",
        "c= 'a' == 'b'\n",
        "print('a < b ==', c)\n",
        "\n",
        "salah = False\n",
        "salah1 = False\n",
        "hasil = salah == salah1\n",
        "print('salah == salah1 =', hasil)\n",
        "\n",
        "satu = 1\n",
        "dua = 2\n",
        "hasil = 1 == 2\n",
        "print('1 == 2 =', hasil)"
      ],
      "execution_count": null,
      "outputs": [
        {
          "output_type": "stream",
          "name": "stdout",
          "text": [
            "a < b == False\n",
            "salah == salah1 = True\n",
            "1 == 2 = False\n"
          ]
        }
      ]
    },
    {
      "cell_type": "markdown",
      "metadata": {
        "id": "XeywALwwhZn7"
      },
      "source": [
        "\n",
        "\n",
        "---\n",
        "\n",
        "\n",
        "\n",
        "---\n",
        "\n"
      ]
    },
    {
      "cell_type": "markdown",
      "metadata": {
        "id": "IbNoZvVssrK5"
      },
      "source": [
        "<h2>Soal 2: Boolean Comparison</h2>\n",
        "\n",
        "- Berikan contoh gabungan multiple comparison menggunkan Boolean Comparisin 'and'\n",
        "- Berikan contoh gabungan multiple comparison menggunkan Boolean Comparisin 'or'\n",
        "- Berikan contoh gabungan multiple comparison menggunkan Boolean Comparisin 'not'"
      ]
    },
    {
      "cell_type": "code",
      "metadata": {
        "id": "M1mwGoegaiET",
        "colab": {
          "base_uri": "https://localhost:8080/"
        },
        "outputId": "43a21494-f228-45dc-b8a8-3c98884cb72a"
      },
      "source": [
        "#seperti soal no.1 hanya saja terdapat lebih dari satu syarat perbandingan\n",
        "a = 1 != 1 \n",
        "b = 2 != 2\n",
        "\n",
        "if ((a and b)):\n",
        "    print (\"benar\")\n",
        "\n",
        "else:\n",
        "    print (\"salah\")  \n",
        "\n",
        "if ((a or b)):\n",
        "    print (\"benar\")\n",
        "\n",
        "else:\n",
        "    print (\"salah\")\n",
        "\n",
        "if (not(a or b)):\n",
        "    print (\"benar\")\n",
        "\n",
        "else:\n",
        "    print (\"salah\")"
      ],
      "execution_count": null,
      "outputs": [
        {
          "output_type": "stream",
          "name": "stdout",
          "text": [
            "salah\n",
            "salah\n",
            "benar\n"
          ]
        }
      ]
    },
    {
      "cell_type": "markdown",
      "metadata": {
        "id": "Y3ejsyvqhciI"
      },
      "source": [
        "\n",
        "\n",
        "---\n",
        "\n",
        "\n",
        "\n",
        "---\n",
        "\n"
      ]
    },
    {
      "cell_type": "markdown",
      "metadata": {
        "id": "Yp_g_sPMsrLH"
      },
      "source": [
        "<h2>Soal 3: If-Else Statement</h2>\n",
        "\n",
        "Lengkapi kode untuk menghasilkan suatu output yang di harapkan\n",
        "\n",
        "- Bualah sebuah if-else statement yang dimana akan mem-print 'High' jika grade adalah 'A' dan price lebih dari 100000, kemudian mem-print 'Medium' jika grade adalah 'A' dan price lebih dari 50000 dan memprint 'low' jika grade adalah 'A' dan price lebih kecil dan sama dengan 50000."
      ]
    },
    {
      "cell_type": "code",
      "metadata": {
        "id": "2PPsaN50c9ew",
        "colab": {
          "base_uri": "https://localhost:8080/"
        },
        "outputId": "ca87a903-5703-46eb-cc90-77045e5f7605"
      },
      "source": [
        "#code here\n",
        "#High jika grade A price > dari 100000\n",
        "#Medium jika grade A price > dari 50000\n",
        "#low jika grade A dan price <= 50000\n",
        "\n",
        "grade_A = 50000\n",
        "if grade_A > 100000 :\n",
        "  print('High')\n",
        "elif grade_A > 50000 :\n",
        "    print('Medium')\n",
        "elif grade_A <= 50000 :\n",
        "    print('Low')"
      ],
      "execution_count": null,
      "outputs": [
        {
          "output_type": "stream",
          "name": "stdout",
          "text": [
            "Low\n"
          ]
        }
      ]
    },
    {
      "cell_type": "markdown",
      "metadata": {
        "id": "FkSxKlMNhfzn"
      },
      "source": [
        "\n",
        "\n",
        "---\n",
        "\n",
        "\n",
        "\n",
        "---\n",
        "\n"
      ]
    },
    {
      "cell_type": "markdown",
      "metadata": {
        "id": "IcoJXJT1srLW"
      },
      "source": [
        "<h2>Soal 4: Comparison Operator dengan fungsi</h2>\n",
        "\n",
        "Buatlah sebuah fungsi yang menerima satu argument bertipe data numeric dan menghasilkan sebuah return sebagai berikut :\n",
        "- menghasilkan return 'Aneh' jika nilai dari argument tersebut adalah bilangan ganjil\n",
        "- menghasilkan return 'Tidak Aneh' jika nilai dari argument tersebut adalah bilangan genap dan diantara nilai 2 sampai 5 (2 dan 5 termasuk)\n",
        "- menghasilkan return 'Aneh' jika nilai dari argument tersebut adalah bilangan genap dan diantara nilai 6 sampai 20 (6 dan 20 termasuk)\n",
        "- menghasilkan return 'Tidak Aneh' jika nilai dari argument tersebut adalah bilangan genap dan lebih besari dari 20"
      ]
    },
    {
      "cell_type": "code",
      "metadata": {
        "id": "oGXGd_MhdH9D",
        "colab": {
          "base_uri": "https://localhost:8080/"
        },
        "outputId": "3fb45f20-2d0c-4033-c16a-0227f0e157a3"
      },
      "source": [
        "# Buat fungsi\n",
        "def nilai(a):\n",
        "    if ((a % 2) == 0) :\n",
        "        if (a>=2 and a<=5) or a>20:\n",
        "            return \"Tidak Aneh\"\n",
        "        elif a>=6 and a<=20:\n",
        "            return \"Aneh\"\n",
        "    else:\n",
        "        return \"Aneh\"\n",
        "print(nilai(4))"
      ],
      "execution_count": null,
      "outputs": [
        {
          "output_type": "stream",
          "name": "stdout",
          "text": [
            "Tidak Aneh\n"
          ]
        }
      ]
    },
    {
      "cell_type": "markdown",
      "metadata": {
        "id": "QxKrmLcchhvf"
      },
      "source": [
        "\n",
        "\n",
        "---\n",
        "\n",
        "\n",
        "\n",
        "---\n",
        "\n"
      ]
    },
    {
      "cell_type": "markdown",
      "metadata": {
        "id": "gf0D64xOsrLl"
      },
      "source": [
        "<h2>Soal 5: While Loop dan For Loop</h2>\n",
        "\n",
        "- Apa perbedaan while loop dan for loop?\n",
        "- Berikan contoh sederhana cara menggunakan while loop dan for loop"
      ]
    },
    {
      "cell_type": "markdown",
      "metadata": {
        "id": "cSrE7RbvdXWe"
      },
      "source": [
        "jawaban perbedaan\n"
      ]
    },
    {
      "cell_type": "code",
      "metadata": {
        "id": "RSf-gg-rdY35",
        "colab": {
          "base_uri": "https://localhost:8080/"
        },
        "outputId": "2b9fee0e-09be-4734-c460-4e490a661587"
      },
      "source": [
        "# while loop adalah perulangan yang jumlah proses pengulangannya tidak terbatas\n",
        "# for loop adalah perulangan yang jumlah proses pengulangannya tergantung dari isi variabel, \n",
        "# for loop mendefinisikan variabel menjadi sebuah array pada salah satu tipe data\n",
        "# jawaban contoh\n",
        "\n",
        "print('while loop')\n",
        "x = 1\n",
        "while x <= 3 :\n",
        "  print('Sanbercode')\n",
        "  x += 1\n",
        "print('='*20)\n",
        "print('for loop')\n",
        "kota = ['jakarta','bandung','yogyakarta']\n",
        "for nama_kota in kota:\n",
        "  print(nama_kota) "
      ],
      "execution_count": null,
      "outputs": [
        {
          "output_type": "stream",
          "name": "stdout",
          "text": [
            "while loop\n",
            "Sanbercode\n",
            "Sanbercode\n",
            "Sanbercode\n",
            "====================\n",
            "for loop\n",
            "jakarta\n",
            "bandung\n",
            "yogyakarta\n"
          ]
        }
      ]
    },
    {
      "cell_type": "markdown",
      "metadata": {
        "id": "xJq6aaArhlDN"
      },
      "source": [
        "\n",
        "\n",
        "---\n",
        "\n",
        "\n",
        "\n",
        "---\n",
        "\n"
      ]
    },
    {
      "cell_type": "markdown",
      "metadata": {
        "id": "fZQpBGCgsrLz"
      },
      "source": [
        "<h2>Soal 6: While Loop</h2>\n",
        "    \n",
        "Buatlah sebuah code while loop sebagai berikut :\n",
        "- Buatlah suatu fungsi yang menerima satu input nilai numerik\n",
        "- Dalam fungsi, Buat sebuah while-loop dengan melakukan comparasi terhadap inputan tersebut, dimana looping/iterasi terus berjalan apabila nilai inputan tidak sama dengan 0\n",
        "- Dalam setiap iterasi update nilai variable inputan itu, jika input lebih dari 0, maka kurangi variabel tersebut sebesar 1, selain itu tambahkan 1\n",
        "- print nilai variable input dalam setiap awal iterasi"
      ]
    },
    {
      "cell_type": "code",
      "source": [
        " print(f'Jika a = 10')\n",
        "a = 10\n",
        "\n",
        "def fungsi_while(angka):\n",
        "  while angka!=0:\n",
        "    print(angka)\n",
        "    angka-=1\n",
        "  if angka<-1:\n",
        "    print(angka)\n",
        "\n",
        "print('='*20)\n",
        "\n",
        "print(f'Jika a = -10')\n",
        "a = -10\n",
        "\n",
        "def fungsi_while(angka):\n",
        "  while angka!=0:\n",
        "    print(angka)\n",
        "    angka-=-1\n",
        "\n",
        "fungsi_while(a)"
      ],
      "metadata": {
        "colab": {
          "base_uri": "https://localhost:8080/"
        },
        "id": "ZTmDPZLKYONR",
        "outputId": "60c40f36-5729-4cfa-c8fb-474020aa5a5b"
      },
      "execution_count": null,
      "outputs": [
        {
          "output_type": "stream",
          "name": "stdout",
          "text": [
            "Jika a = 10\n",
            "====================\n",
            "Jika a = -10\n",
            "-10\n",
            "-9\n",
            "-8\n",
            "-7\n",
            "-6\n",
            "-5\n",
            "-4\n",
            "-3\n",
            "-2\n",
            "-1\n"
          ]
        }
      ]
    },
    {
      "cell_type": "markdown",
      "metadata": {
        "id": "lKzngRrlsrMD"
      },
      "source": [
        "Expected Output:\n",
        "\n",
        "jika a = 10                           \n",
        "\n",
        "10                                   \n",
        "9                      \n",
        "8   \n",
        "7   \n",
        "6  \n",
        "5  \n",
        "4  \n",
        "3  \n",
        "2  \n",
        "1\n",
        "\n",
        "jika a = -10\n",
        "\n",
        "-10                                   \n",
        "-9                        \n",
        "-8  \n",
        "-7  \n",
        "-6  \n",
        "-5  \n",
        "-4  \n",
        "-3  \n",
        "-2  \n",
        "-1\n"
      ]
    },
    {
      "cell_type": "markdown",
      "metadata": {
        "id": "MhdhusMnhn8L"
      },
      "source": [
        "\n",
        "\n",
        "---\n",
        "\n",
        "\n",
        "\n",
        "---\n",
        "\n"
      ]
    },
    {
      "cell_type": "markdown",
      "metadata": {
        "id": "DnAUJ4TzgmOp"
      },
      "source": [
        "<h2>Soal 7: For Loop</h2>\n",
        "\n",
        "Lengkapi kode untuk menghasilkan suatu output yang diharapkan:\n",
        "\n",
        "\n",
        "\n",
        "\n",
        "\n",
        "*   Cari siswa mana saja yang memiliki nilai lebih dari sama dengan 80. Masukkan kedalam sebuah list. print hasilnya\n",
        "\n",
        "\n",
        "\n",
        "\n"
      ]
    },
    {
      "cell_type": "code",
      "metadata": {
        "id": "aeuMIX8_hGCW"
      },
      "source": [
        "data_siswa = [\n",
        "    {\n",
        "        \"nama\":\"Budi\",\n",
        "        \"nilai\": 90\n",
        "    },\n",
        "    {\n",
        "        \"nama\":\"Nina\",\n",
        "        \"nilai\": 78\n",
        "    },\n",
        "    {\n",
        "        \"nama\":\"Rudi\",\n",
        "        \"nilai\": 91\n",
        "    },\n",
        "    {\n",
        "        \"nama\":\"Olivia\",\n",
        "        \"nilai\": 76\n",
        "    },\n",
        "    {\n",
        "        \"nama\":\"Leo\",\n",
        "        \"nilai\": 80\n",
        "    },\n",
        "    {\n",
        "        \"nama\":\"Liam\",\n",
        "        \"nilai\": 67\n",
        "    },\n",
        "    {\n",
        "        \"nama\":\"Sheila\",\n",
        "        \"nilai\": 76\n",
        "    }\n",
        "]"
      ],
      "execution_count": null,
      "outputs": []
    },
    {
      "cell_type": "code",
      "metadata": {
        "id": "XlQsAeOchKLP",
        "colab": {
          "base_uri": "https://localhost:8080/"
        },
        "outputId": "a7387b1f-880d-4fe4-c00d-0baebd20ac67"
      },
      "source": [
        "lulus = []\n",
        "for siswa in data_siswa:\n",
        "  if siswa[\"nilai\"] >= 80:\n",
        "    lulus.append(siswa[\"nama\"])  \n",
        "print(lulus)\n",
        "\n",
        "#code here"
      ],
      "execution_count": 8,
      "outputs": [
        {
          "output_type": "stream",
          "name": "stdout",
          "text": [
            "[]\n"
          ]
        }
      ]
    },
    {
      "cell_type": "markdown",
      "metadata": {
        "id": "xIFJBG5PhL_5"
      },
      "source": [
        "Expected output:\n",
        "\n",
        "['Budi', 'Rudi', 'Leo']"
      ]
    },
    {
      "cell_type": "markdown",
      "metadata": {
        "id": "6qKCmZB0hqH9"
      },
      "source": [
        "\n",
        "\n",
        "---\n",
        "\n",
        "\n",
        "\n",
        "---\n",
        "\n"
      ]
    },
    {
      "cell_type": "markdown",
      "metadata": {
        "id": "IWg3Z_zZsrMG"
      },
      "source": [
        "<h2>Soal 8: For Loop Enumerate</h2>\n",
        "    \n",
        "Lengkapi kode untuk menghasilkan suatu output yang di harapkan:\n",
        "\n",
        "- Buatlah sebuah loop dengan mengiterasi sebuah objek list kemudian di kalikan dengan index dari list tersebut dan print hasilnya"
      ]
    },
    {
      "cell_type": "code",
      "metadata": {
        "id": "wvxcRiq2gYS9",
        "colab": {
          "base_uri": "https://localhost:8080/"
        },
        "outputId": "3eada2c4-f59e-4c75-a713-99d54b43fe6a"
      },
      "source": [
        "obj_list= [1, 16, 11, 10, 5]\n",
        "for index,obj in enumerate(obj_list):\n",
        "  print(index*obj)\n",
        "# lengkapi code di bawah"
      ],
      "execution_count": null,
      "outputs": [
        {
          "output_type": "stream",
          "name": "stdout",
          "text": [
            "0\n",
            "16\n",
            "22\n",
            "30\n",
            "20\n"
          ]
        }
      ]
    },
    {
      "cell_type": "markdown",
      "metadata": {
        "id": "OGawROjnsrMU"
      },
      "source": [
        "Expected Output:\n",
        "\n",
        "0\n",
        "\n",
        "16\n",
        "\n",
        "22\n",
        "\n",
        "30\n",
        "\n",
        "20\n"
      ]
    },
    {
      "cell_type": "markdown",
      "metadata": {
        "id": "BEaVi_Z5hror"
      },
      "source": [
        "\n",
        "\n",
        "---\n",
        "\n",
        "\n",
        "\n",
        "---\n",
        "\n"
      ]
    }
  ]
}