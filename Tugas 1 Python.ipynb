{
  "cells": [
    {
      "cell_type": "markdown",
      "metadata": {
        "id": "37V7ZOpEwt-6"
      },
      "source": [
        "<h2>Soal 1: Hello World to Python</h2>\n",
        "    \n",
        "Print Say Hello World to Python"
      ]
    },
    {
      "cell_type": "code",
      "execution_count": null,
      "metadata": {
        "id": "YCFjxzUwrIN-",
        "colab": {
          "base_uri": "https://localhost:8080/"
        },
        "outputId": "045733fb-6f90-436a-be67-998367362934"
      },
      "outputs": [
        {
          "output_type": "stream",
          "name": "stdout",
          "text": [
            "Hello World Python\n"
          ]
        }
      ],
      "source": [
        "print (\"Hello World Python\")"
      ]
    },
    {
      "cell_type": "markdown",
      "metadata": {
        "id": "fftihhaUwt_B"
      },
      "source": [
        "Expected Output : \n",
        "\n",
        "Hello World Python"
      ]
    },
    {
      "cell_type": "markdown",
      "metadata": {
        "id": "1aEipc1Swt_C"
      },
      "source": [
        "<h2>Soal 2: Aritmatika di Python </h2>\n",
        "    \n",
        "- Buat statement pertambahan antara 2 number di Python\n",
        "- Buat statement perkurangan antara 2 number di Python\n",
        "- Buat statement perkalian antara 2 number di Python\n",
        "- Buat statement pembagian antara 2 number di Python"
      ]
    },
    {
      "cell_type": "code",
      "execution_count": null,
      "metadata": {
        "id": "hOlCjZzrwt_D",
        "colab": {
          "base_uri": "https://localhost:8080/"
        },
        "outputId": "ed5cbc6c-1f79-4cec-e13e-d09a9d7027e5"
      },
      "outputs": [
        {
          "output_type": "stream",
          "name": "stdout",
          "text": [
            "Petambahan: 15\n",
            "Perkurangan: 5\n",
            "Perkalian: 50\n",
            "Pembagian: 2.0\n"
          ]
        }
      ],
      "source": [
        "a = 10\n",
        "b = 5\n",
        "\n",
        "tambah = (a + b)\n",
        "kurang = (a - b)\n",
        "kali = (a*b)\n",
        "bagi = (a/b)\n",
        "\n",
        "print('Petambahan:', tambah)\n",
        "print('Perkurangan:', kurang)\n",
        "print('Perkalian:', kali)\n",
        "print('Pembagian:', bagi)\n"
      ]
    },
    {
      "cell_type": "markdown",
      "metadata": {
        "id": "DgUFNMtZwt_G"
      },
      "source": [
        "<h2>Quiz 3: Assign Variable dan Tipe Data Integer, Float </h2>\n",
        "\n",
        "- Buat suatu variabel a dan b, dimana a dan b adalah nilai bertipe data numeric\n",
        "- Berikan suatu nilai bertipe data integer, hasil pembagian dari a dengan b\n",
        "- Berikan suatu nilai bertipe data float, hasil pembagian dari a dengan b"
      ]
    },
    {
      "cell_type": "code",
      "execution_count": null,
      "metadata": {
        "id": "Qf8wzMg5wt_H",
        "colab": {
          "base_uri": "https://localhost:8080/"
        },
        "outputId": "10ff8cc3-26ac-465c-ba89-37cf1e686022"
      },
      "outputs": [
        {
          "output_type": "stream",
          "name": "stdout",
          "text": [
            "data integer: 2\n",
            "tipenya: <class 'int'>\n",
            "data float: 2.0\n",
            "tipenya: <class 'float'>\n"
          ]
        }
      ],
      "source": [
        "a = 10\n",
        "b = 5\n",
        "\n",
        "ini_int = int(a/b)\n",
        "ini_float = float(a/b)\n",
        "\n",
        "print(\"data integer:\", ini_int)\n",
        "print(\"tipenya:\", type(ini_int))\n",
        "\n",
        "print(\"data float:\", ini_float)\n",
        "print(\"tipenya:\", type(ini_float))"
      ]
    },
    {
      "cell_type": "markdown",
      "metadata": {
        "id": "XmjLgW7Zwt_L"
      },
      "source": [
        "<h2>Soal 4: String Operation </h2>\n",
        "\n",
        "- masukan nama depan kamu kedalam suatu variable firstname\n",
        "- masukan nama belakang kamu kedalam suatu variable lastname\n",
        "- tampilkan suatu kalimat 'Hello sanbercode, saya firstname lastname! saya siap belajar python data science dasar.'"
      ]
    },
    {
      "cell_type": "code",
      "execution_count": 1,
      "metadata": {
        "id": "lSRwZ7xXwt_M",
        "colab": {
          "base_uri": "https://localhost:8080/"
        },
        "outputId": "12294df7-e112-46cc-a895-a6d0bd9bf45b"
      },
      "outputs": [
        {
          "output_type": "stream",
          "name": "stdout",
          "text": [
            "Hello, saya Fauzan Musyafa! saya siap belajar python.\n"
          ]
        }
      ],
      "source": [
        "firstname = 'Fauzan'\n",
        "lastname = 'Musyafa'\n",
        "age = 22\n",
        "print('Hello, saya', firstname +' '+ lastname+ '!'+ ' saya siap belajar python.')"
      ]
    },
    {
      "cell_type": "markdown",
      "metadata": {
        "id": "0ROQJqBXwt_Q"
      },
      "source": [
        "Expected Output :\n",
        "\n",
        "Hello, saya Arief Muhammad! saya siap belajar python."
      ]
    },
    {
      "cell_type": "markdown",
      "metadata": {
        "id": "9DaWI8xdwt_Q"
      },
      "source": [
        "<h2>Soal 5: Tipe Data</h2>\n",
        "\n",
        "Lengkapi code di bawah ini untuk menghasilkan output yang sesuai"
      ]
    },
    {
      "cell_type": "code",
      "execution_count": null,
      "metadata": {
        "id": "wcDbgbjTwt_R",
        "colab": {
          "base_uri": "https://localhost:8080/"
        },
        "outputId": "dd205d82-428e-4498-bd59-5553042e6677"
      },
      "outputs": [
        {
          "output_type": "stream",
          "name": "stdout",
          "text": [
            "usiaku: 23 tahun\n"
          ]
        }
      ],
      "source": [
        "usia = 23\n",
        "kata = 'usiaku: '\n",
        "print(kata + str(usia)+ ' '+ 'tahun')"
      ]
    },
    {
      "cell_type": "markdown",
      "metadata": {
        "id": "1O3NGQSKzf_A"
      },
      "source": [
        "# Data Structure"
      ]
    },
    {
      "cell_type": "markdown",
      "metadata": {
        "id": "m2VWq6g9szIv"
      },
      "source": [
        "<h2>Soal 6: Perbedaan Data Structure</h2>\n",
        "\n",
        "Jawab Pertanyaan di bawah ini:\n",
        "\n",
        "Jelaskan perbedaan dari List, Tuple, Set dan Dictionary!"
      ]
    },
    {
      "cell_type": "markdown",
      "metadata": {
        "id": "vfsQF2Ipxjhe"
      },
      "source": [
        "List,\n",
        "Tuple,\n",
        "Set,\n",
        "Dictionary,\n"
      ]
    },
    {
      "cell_type": "markdown",
      "metadata": {
        "id": "CO_5tbts9Od3"
      },
      "source": [
        "List merupakan tipe data yang dapat berisi lebih dari satu data, dapat diubah dan memungkinkan adanya data duplikat didalamnya.\n",
        "Ciri-ciri dari List menggunakan kurung siku \"[]\", memisahkan elemen dengan koma \",\"\n",
        "---\n",
        "Tuple merupakan tipe data yang dapat menampung data. Perbedaan tuple dan list yaitu dari kurung yang digunakan dan tipe data tuple tidak dapat diubah setelah proses eksekusi. Pada tuple bisa menambahkan data duplikat.\n",
        "Ciri-ciri dari Tuple menggunakan kurung \"()\", memisahkan elemen dengan koma \",\"\n",
        "---\n",
        "Set merupakan tipe data yang dapat menampung data juga. Namun untuk tipe data set tidak boleh ada elemen dengan nilai yang sama didalamnya, tidak akan menampilkan data duplikat dan tidak memperdulikan urutan dari elemen.\n",
        "Ciri-ciri dari Set menggunakan kurung kurawal \"{}\", memisahkan elemen dengan koma \",\"\n",
        "---\n",
        "Dictionary merupakan tipe data yang dapat digunakan untuk menambahkan suatu nilai pada data ke dalam nilai yang lainnya.\n",
        "Ciri-ciri Dictionary mirip dengan tipe data Set, namun yang membedakan adalah Dictionary akan memetakan key dan value.\n",
        "Contohnya :\n",
        "data_diri = {'tinggi badan':170, 'berat badan':63}\n",
        "print(data_diri['tinggi badan'])\n",
        "\n",
        "result\n",
        "170"
      ]
    },
    {
      "cell_type": "markdown",
      "metadata": {
        "id": "-31NFEy_xprf"
      },
      "source": [
        "# List"
      ]
    },
    {
      "cell_type": "markdown",
      "metadata": {
        "id": "XD1fT351szI2"
      },
      "source": [
        "<h2>Soal 7: Akses List</h2>\n",
        "\n",
        "Lengkapi kode untuk menghasilkan suatu output yang di harapkan"
      ]
    },
    {
      "cell_type": "code",
      "execution_count": null,
      "metadata": {
        "id": "qXKteY88szI5",
        "colab": {
          "base_uri": "https://localhost:8080/"
        },
        "outputId": "05b74d4d-864e-4c09-8fd6-737536b4e4a4"
      },
      "outputs": [
        {
          "output_type": "stream",
          "name": "stdout",
          "text": [
            "['13b', 'aa1', 1.32, 22.1]\n"
          ]
        }
      ],
      "source": [
        "xa = ['1', '13b', 'aa1', 1.32, 22.1, 2.34]\n",
        "print(xa[1:5])\n",
        "# slicing list\n"
      ]
    },
    {
      "cell_type": "markdown",
      "metadata": {
        "id": "4Qp2wjmOszJJ"
      },
      "source": [
        "Expected Output :\n",
        "\n",
        "[ '13b', 'aa1', 1.32, 22.1 ]"
      ]
    },
    {
      "cell_type": "markdown",
      "metadata": {
        "id": "zKS3e_kTszJm"
      },
      "source": [
        "<h2>Soal 8: Akses Nested List</h2>\n",
        "\n",
        "Lengkapi kode untuk menghasilkan suatu output yang di harapkan"
      ]
    },
    {
      "cell_type": "code",
      "execution_count": null,
      "metadata": {
        "id": "IhFh_WCzszJo",
        "colab": {
          "base_uri": "https://localhost:8080/"
        },
        "outputId": "732610b9-e9af-40dc-a1d7-5c028bf85a08"
      },
      "outputs": [
        {
          "output_type": "stream",
          "name": "stdout",
          "text": [
            "[0, 6]\n"
          ]
        }
      ],
      "source": [
        "a = [\n",
        "    [5, 9, 8],\n",
        "    [0, 0, 6]\n",
        "    ]\n",
        "print(a[1][1:3])\n",
        "# subsetting list\n"
      ]
    },
    {
      "cell_type": "markdown",
      "metadata": {
        "id": "mk5EMa6pszJ2"
      },
      "source": [
        "Expected Output :\n",
        "\n",
        "\n",
        "[0, 6]"
      ]
    },
    {
      "cell_type": "markdown",
      "metadata": {
        "id": "cggENDN4szKX"
      },
      "source": [
        "<h2>Soal 9: List Manipulation</h2>\n",
        "\n",
        "Lengkapi kode untuk menghasilkan suatu output yang di harapkan"
      ]
    },
    {
      "cell_type": "code",
      "execution_count": null,
      "metadata": {
        "id": "o9_8JDPn8452",
        "outputId": "649eda8a-31c1-409c-fa77-602cb463792d",
        "colab": {
          "base_uri": "https://localhost:8080/"
        }
      },
      "outputs": [
        {
          "output_type": "stream",
          "name": "stdout",
          "text": [
            "[[5, 9, 10], [11, 0, 6]]\n"
          ]
        }
      ],
      "source": [
        "a = [\n",
        "    [5, 9, 8],\n",
        "    [0, 0, 6]\n",
        "    ]\n",
        "\n",
        "a[0][2] = 10\n",
        "a[1][0] = 11\n",
        "# change list value\n",
        "\n",
        "print(a)"
      ]
    },
    {
      "cell_type": "markdown",
      "metadata": {
        "id": "iYHFRJW7szKl"
      },
      "source": [
        "Expected Output :\n",
        "\n",
        "[ [5, 9, 10], [11, 0, 6] ]"
      ]
    },
    {
      "cell_type": "markdown",
      "metadata": {
        "id": "dSTDqY9iszKn"
      },
      "source": [
        "<h2>Soal 10: Delete Element List</h2>\n",
        "\n",
        "Lengkapi kode untuk menghasilkan suatu output yang di harapkan"
      ]
    },
    {
      "cell_type": "code",
      "execution_count": null,
      "metadata": {
        "id": "JXCqRPUO8_qI",
        "outputId": "007031b6-fc2d-471c-cee5-d68e589f550b",
        "colab": {
          "base_uri": "https://localhost:8080/"
        }
      },
      "outputs": [
        {
          "output_type": "stream",
          "name": "stdout",
          "text": [
            "['hallway', 11.25, 'kitchen', 18.0, 'chill zone', 20.0, 'bedroom', 10.75, 10.5, 'poolhouse', 24.5, 'garage', 15.45]\n"
          ]
        }
      ],
      "source": [
        "areas = [\"hallway\", 11.25, \"kitchen\", 18.0,\n",
        "        \"chill zone\", 20.0, \"bedroom\", 10.75,\n",
        "         \"bathroom\", 10.50, \"poolhouse\", 24.5,\n",
        "         \"garage\", 15.45]\n",
        "\n",
        "areas.remove('bathroom')\n",
        "# Hilangkan elemen yang bernilai \"bathroom\" dan 10.50 dalam satu statement code\n",
        "\n",
        "print(areas)"
      ]
    },
    {
      "cell_type": "markdown",
      "metadata": {
        "id": "ZeF61jc_szK1"
      },
      "source": [
        "Expected Output:\n",
        "\n",
        "['hallway',\n",
        " 11.25,\n",
        " 'kitchen',\n",
        " 18.0,\n",
        " 'chill zone',\n",
        " 20.0,\n",
        " 'bedroom',\n",
        " 10.75,\n",
        " 'poolhouse',\n",
        " 24.5,\n",
        " 'garage',\n",
        " 15.45]\n",
        "\n"
      ]
    },
    {
      "cell_type": "markdown",
      "metadata": {
        "id": "C7ztBLG19LM6"
      },
      "source": [
        "\n",
        "\n",
        "---\n",
        "\n",
        "\n",
        "\n",
        "---\n",
        "\n"
      ]
    },
    {
      "cell_type": "markdown",
      "metadata": {
        "id": "yK3s_CB69Tx0"
      },
      "source": [
        "# Tuple"
      ]
    },
    {
      "cell_type": "markdown",
      "metadata": {
        "id": "vIvG32Rp9WvI"
      },
      "source": [
        "## Soal 11. Mengakses Tuple\n",
        "\n",
        "Gunakan cara slicing untuk mengakses tuple sehingga mendapatkan hasil sesuai expected output"
      ]
    },
    {
      "cell_type": "code",
      "execution_count": null,
      "metadata": {
        "id": "XNsuiSLABsmQ",
        "colab": {
          "base_uri": "https://localhost:8080/"
        },
        "outputId": "092ddc43-1f86-4d95-f739-5c7f873648b3"
      },
      "outputs": [
        {
          "output_type": "stream",
          "name": "stdout",
          "text": [
            "(6, 7, 8)\n"
          ]
        }
      ],
      "source": [
        "tuple_1 = (1, 2, 6, 7, 8, 9, 10)\n",
        "\n",
        "print(tuple_1[2:5])\n",
        "#akses tuple\n"
      ]
    },
    {
      "cell_type": "markdown",
      "metadata": {
        "id": "yJRgSBHKBvyD"
      },
      "source": [
        "Expected Outpout:\n",
        "\n",
        "\n",
        "(6, 7, 8)"
      ]
    },
    {
      "cell_type": "markdown",
      "metadata": {
        "id": "1oT6SOCmEuLA"
      },
      "source": [
        "\n",
        "\n",
        "---\n",
        "\n",
        "\n",
        "\n",
        "---\n",
        "\n"
      ]
    },
    {
      "cell_type": "markdown",
      "metadata": {
        "id": "gdBwjXz8zoMi"
      },
      "source": [
        "# Dictionary"
      ]
    },
    {
      "cell_type": "markdown",
      "metadata": {
        "id": "qjMKbE9D6qow"
      },
      "source": [
        "<h2>Soal 12: Menambahkan key-value baru ke Dictionary</h2>\n",
        "\n",
        "Lengkapi kode untuk menghasilkan suatu output yang di harapkan"
      ]
    },
    {
      "cell_type": "code",
      "execution_count": null,
      "metadata": {
        "id": "rU7Z5dzC6qox",
        "colab": {
          "base_uri": "https://localhost:8080/"
        },
        "outputId": "3a636676-4312-4527-eb33-97d29f619c08"
      },
      "outputs": [
        {
          "output_type": "execute_result",
          "data": {
            "text/plain": [
              "True"
            ]
          },
          "metadata": {},
          "execution_count": 41
        }
      ],
      "source": [
        "europe = {'spain':'madrid', 'france':'paris', 'germany':'berlin', 'norway':'oslo' }\n",
        "\n",
        "# tambahkan key itali ke objek dictionary dengan value roma\n",
        "europe['itali'] = 'roma'\n",
        "# cek apakah itali ada di dalam objek dictionary\n",
        "'itali' in europe"
      ]
    },
    {
      "cell_type": "markdown",
      "metadata": {
        "id": "ur84PUyz6qo1"
      },
      "source": [
        "Expected Output:\n",
        "    \n",
        "True"
      ]
    },
    {
      "cell_type": "markdown",
      "metadata": {
        "id": "bgilSLKl6qo2"
      },
      "source": [
        "<h2>Soal 13: Update dan Remove Dictinary</h2>\n",
        "    \n",
        "Lengkapi kode untuk menghasilkan suatu output yang di harapkan"
      ]
    },
    {
      "cell_type": "code",
      "execution_count": null,
      "metadata": {
        "id": "kglSlEvvFG15",
        "outputId": "e23abf34-b4c5-4393-dfee-c2fffb0e13db",
        "colab": {
          "base_uri": "https://localhost:8080/"
        }
      },
      "outputs": [
        {
          "output_type": "stream",
          "name": "stdout",
          "text": [
            "{'spain': 'madrid', 'france': 'paris', 'germany': 'berlin', 'norway': 'oslo', 'italy': 'rome', 'poland': 'warsaw'}\n"
          ]
        }
      ],
      "source": [
        "europe = {'spain':'madrid', 'france':'paris', 'germany':'bonn',\n",
        "          'norway':'oslo', 'italy':'rome', 'poland':'warsaw',\n",
        "          'australia':'vienna' }\n",
        "\n",
        "# update nilai ibukota german ke berlin\n",
        "europe['germany'] = 'berlin'\n",
        "# remove australia dari europa\n",
        "europe.pop('australia')\n",
        "\n",
        "print(europe)"
      ]
    },
    {
      "cell_type": "markdown",
      "metadata": {
        "id": "VDpHuoXS6qo6"
      },
      "source": [
        "Expected Output:\n",
        "\n",
        "{'spain': 'madrid', 'france': 'paris', 'germany': 'berlin', 'norway': 'oslo', 'italy': 'rome', 'poland': 'warsaw'}"
      ]
    },
    {
      "cell_type": "markdown",
      "metadata": {
        "id": "xefUN_T56qpA"
      },
      "source": [
        "<h2>Soal 14: Loop Dictionary</h2>\n",
        "    \n",
        "Lengkapi kode untuk menghasilkan suatu output yang di harapkan"
      ]
    },
    {
      "cell_type": "code",
      "execution_count": null,
      "metadata": {
        "id": "6--DAeB8Fjwo",
        "colab": {
          "base_uri": "https://localhost:8080/"
        },
        "outputId": "514d8791-401d-4e36-b477-2033d5374f55"
      },
      "outputs": [
        {
          "output_type": "stream",
          "name": "stdout",
          "text": [
            "Ibukota spain adalah madrid\n",
            "Ibukota france adalah paris\n",
            "Ibukota germany adalah berlin\n",
            "Ibukota norway adalah oslo\n",
            "Ibukota indonesia adalah jakarta\n"
          ]
        }
      ],
      "source": [
        "country = { \n",
        "           'spain': { 'capital':'madrid', 'population':46.77 },\n",
        "           'france': { 'capital':'paris', 'population':66.03 },\n",
        "           'germany': { 'capital':'berlin', 'population':80.62 },\n",
        "           'norway': { 'capital':'oslo', 'population':5.084 },\n",
        "           'indonesia' : {'capital':'jakarta', 'population':250}\n",
        "         }\n",
        "\n",
        "for key in country:\n",
        "    print('Ibukota '+key+' adalah ' + country[key]['capital'])\n"
      ]
    },
    {
      "cell_type": "markdown",
      "metadata": {
        "id": "YjX6xAtj6qpE"
      },
      "source": [
        "Expected Output:\n",
        "    \n",
        "Ibukota spain adalah madrid\n",
        "\n",
        "Ibukota france adalah paris\n",
        "\n",
        "Ibukota germany adalah berlin\n",
        "\n",
        "Ibukota norway adalah oslo\n",
        "\n",
        "Ibukota indonesia adalah jakarta"
      ]
    },
    {
      "cell_type": "markdown",
      "metadata": {
        "id": "y2zgwVoWFrvN"
      },
      "source": [
        "\n",
        "\n",
        "---\n",
        "\n",
        "\n",
        "\n",
        "---\n",
        "\n"
      ]
    },
    {
      "cell_type": "markdown",
      "metadata": {
        "id": "WqSWJGhxFtLL"
      },
      "source": [
        "# Set"
      ]
    },
    {
      "cell_type": "markdown",
      "metadata": {
        "id": "hcGbe-6hFxQr"
      },
      "source": [
        "## Soal 15: Remove Duplicate using set\n",
        "\n",
        "\n",
        "Hilangkan nilai duplikat dari sebuah objek list dengan menggunakan cara set sehingga menjadi sebuah tipe set"
      ]
    },
    {
      "cell_type": "code",
      "execution_count": null,
      "metadata": {
        "id": "NNVA6tNqFsan",
        "colab": {
          "base_uri": "https://localhost:8080/"
        },
        "outputId": "8dccad72-c84a-4e98-9a25-2fafe526bf15"
      },
      "outputs": [
        {
          "output_type": "stream",
          "name": "stdout",
          "text": [
            "{1, 2, 3, 4, 5, 6, 7, 8, 9, 10}\n"
          ]
        }
      ],
      "source": [
        "obj_list = [1, 2, 3, 4, 5, 5, 6, 7, 8, 9, 9, 10]\n",
        "a= set(obj_list)\n",
        "\n",
        "print(a)\n",
        "#using set"
      ]
    },
    {
      "cell_type": "markdown",
      "metadata": {
        "id": "mYiIvESyGeSM"
      },
      "source": [
        "Expected output: \n",
        "\n",
        "{1, 2, 3, 4, 5, 6, 7, 8, 9, 10}"
      ]
    },
    {
      "cell_type": "markdown",
      "metadata": {
        "id": "Zl8p-uBuO7Av"
      },
      "source": [
        "## Soal 16: Operasi pada Set\n",
        "\n",
        "Carilah irisan dari ke dua set dengan menggunakan metode intersection"
      ]
    },
    {
      "cell_type": "code",
      "execution_count": null,
      "metadata": {
        "id": "PQLEqbUCOWPN",
        "colab": {
          "base_uri": "https://localhost:8080/",
          "height": 130
        },
        "outputId": "e91d2ea7-ec62-41b5-f9c0-4b7fb50e125b"
      },
      "outputs": [
        {
          "output_type": "error",
          "ename": "SyntaxError",
          "evalue": "ignored",
          "traceback": [
            "\u001b[0;36m  File \u001b[0;32m\"<ipython-input-16-ebe63c78dd13>\"\u001b[0;36m, line \u001b[0;32m3\u001b[0m\n\u001b[0;31m    print(set_2.intersection.(set_3))\u001b[0m\n\u001b[0m                             ^\u001b[0m\n\u001b[0;31mSyntaxError\u001b[0m\u001b[0;31m:\u001b[0m invalid syntax\n"
          ]
        }
      ],
      "source": [
        "set_2 = {6, 8, 9, 10, 24}\n",
        "set_3 = {6, 10, 8, 25, 13}\n",
        "print(set_2.intersection.(set_3))\n",
        "#intersection set"
      ]
    },
    {
      "cell_type": "markdown",
      "metadata": {
        "id": "5a2uwgZbPk6Z"
      },
      "source": [
        "Expected output:\n",
        "\n",
        "\n",
        "{6, 8, 10}"
      ]
    },
    {
      "cell_type": "markdown",
      "metadata": {
        "id": "txdh4OI0Pr6p"
      },
      "source": [
        "usiaku: 22 tahun\n",
        "\n",
        "---\n",
        "\n",
        "\n",
        "\n",
        "---\n",
        "\n"
      ]
    },
    {
      "cell_type": "markdown",
      "metadata": {
        "id": "wdVRjDoLwt_V"
      },
      "source": [
        "Expected Output : (sesuai usia masing-masing)\n",
        "\n",
        "usiaku: 28 tahun"
      ]
    }
  ],
  "metadata": {
    "colab": {
      "provenance": []
    },
    "kernelspec": {
      "display_name": "Python 3.8.6 ('public_op')",
      "language": "python",
      "name": "python3"
    },
    "language_info": {
      "codemirror_mode": {
        "name": "ipython",
        "version": 3
      },
      "file_extension": ".py",
      "mimetype": "text/x-python",
      "name": "python",
      "nbconvert_exporter": "python",
      "pygments_lexer": "ipython3",
      "version": "3.8.6"
    },
    "vscode": {
      "interpreter": {
        "hash": "c79a57797ac3c2c9fc3ac15c35181191cad76fea1d03b4b1298ca3ab64b49c63"
      }
    }
  },
  "nbformat": 4,
  "nbformat_minor": 0
}